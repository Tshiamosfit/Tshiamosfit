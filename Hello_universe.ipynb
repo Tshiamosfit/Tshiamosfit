{
  "nbformat": 4,
  "nbformat_minor": 0,
  "metadata": {
    "colab": {
      "name": "Hello_universe.ipynb",
      "provenance": [],
      "authorship_tag": "ABX9TyP+nZm8aJs49j0P7eOnSf1G",
      "include_colab_link": true
    },
    "kernelspec": {
      "name": "python3",
      "display_name": "Python 3"
    },
    "language_info": {
      "name": "python"
    },
    "accelerator": "GPU"
  },
  "cells": [
    {
      "cell_type": "markdown",
      "metadata": {
        "id": "view-in-github",
        "colab_type": "text"
      },
      "source": [
        "<a href=\"https://colab.research.google.com/github/Tshiamosfit/Tshiamosfit/blob/main/Hello_universe.ipynb\" target=\"_parent\"><img src=\"https://colab.research.google.com/assets/colab-badge.svg\" alt=\"Open In Colab\"/></a>"
      ]
    },
    {
      "cell_type": "code",
      "metadata": {
        "id": "jsLWMG_7kldd"
      },
      "source": [
        "#@title Default title text\n",
        "\"hello sam\""
      ],
      "execution_count": null,
      "outputs": []
    }
  ]
}